{
 "cells": [
  {
   "cell_type": "code",
   "execution_count": 1,
   "metadata": {},
   "outputs": [],
   "source": [
    "import pandas as pd\n",
    "import numpy as np\n",
    "import matplotlib.pyplot as plt\n",
    "import seaborn as sns\n"
   ]
  },
  {
   "cell_type": "markdown",
   "metadata": {},
   "source": [
    "# Data Preparation"
   ]
  },
  {
   "cell_type": "code",
   "execution_count": 2,
   "metadata": {},
   "outputs": [
    {
     "data": {
      "text/html": [
       "<div>\n",
       "<style scoped>\n",
       "    .dataframe tbody tr th:only-of-type {\n",
       "        vertical-align: middle;\n",
       "    }\n",
       "\n",
       "    .dataframe tbody tr th {\n",
       "        vertical-align: top;\n",
       "    }\n",
       "\n",
       "    .dataframe thead th {\n",
       "        text-align: right;\n",
       "    }\n",
       "</style>\n",
       "<table border=\"1\" class=\"dataframe\">\n",
       "  <thead>\n",
       "    <tr style=\"text-align: right;\">\n",
       "      <th></th>\n",
       "      <th>customer_id</th>\n",
       "      <th>credit_score</th>\n",
       "      <th>country</th>\n",
       "      <th>gender</th>\n",
       "      <th>age</th>\n",
       "      <th>tenure</th>\n",
       "      <th>balance</th>\n",
       "      <th>products_number</th>\n",
       "      <th>credit_card</th>\n",
       "      <th>active_member</th>\n",
       "      <th>estimated_salary</th>\n",
       "      <th>churn</th>\n",
       "    </tr>\n",
       "  </thead>\n",
       "  <tbody>\n",
       "    <tr>\n",
       "      <th>0</th>\n",
       "      <td>15634602</td>\n",
       "      <td>619</td>\n",
       "      <td>France</td>\n",
       "      <td>Female</td>\n",
       "      <td>42</td>\n",
       "      <td>2</td>\n",
       "      <td>0.00</td>\n",
       "      <td>1</td>\n",
       "      <td>1</td>\n",
       "      <td>1</td>\n",
       "      <td>101348.88</td>\n",
       "      <td>1</td>\n",
       "    </tr>\n",
       "    <tr>\n",
       "      <th>1</th>\n",
       "      <td>15647311</td>\n",
       "      <td>608</td>\n",
       "      <td>Spain</td>\n",
       "      <td>Female</td>\n",
       "      <td>41</td>\n",
       "      <td>1</td>\n",
       "      <td>83807.86</td>\n",
       "      <td>1</td>\n",
       "      <td>0</td>\n",
       "      <td>1</td>\n",
       "      <td>112542.58</td>\n",
       "      <td>0</td>\n",
       "    </tr>\n",
       "    <tr>\n",
       "      <th>2</th>\n",
       "      <td>15619304</td>\n",
       "      <td>502</td>\n",
       "      <td>France</td>\n",
       "      <td>Female</td>\n",
       "      <td>42</td>\n",
       "      <td>8</td>\n",
       "      <td>159660.80</td>\n",
       "      <td>3</td>\n",
       "      <td>1</td>\n",
       "      <td>0</td>\n",
       "      <td>113931.57</td>\n",
       "      <td>1</td>\n",
       "    </tr>\n",
       "    <tr>\n",
       "      <th>3</th>\n",
       "      <td>15701354</td>\n",
       "      <td>699</td>\n",
       "      <td>France</td>\n",
       "      <td>Female</td>\n",
       "      <td>39</td>\n",
       "      <td>1</td>\n",
       "      <td>0.00</td>\n",
       "      <td>2</td>\n",
       "      <td>0</td>\n",
       "      <td>0</td>\n",
       "      <td>93826.63</td>\n",
       "      <td>0</td>\n",
       "    </tr>\n",
       "    <tr>\n",
       "      <th>4</th>\n",
       "      <td>15737888</td>\n",
       "      <td>850</td>\n",
       "      <td>Spain</td>\n",
       "      <td>Female</td>\n",
       "      <td>43</td>\n",
       "      <td>2</td>\n",
       "      <td>125510.82</td>\n",
       "      <td>1</td>\n",
       "      <td>1</td>\n",
       "      <td>1</td>\n",
       "      <td>79084.10</td>\n",
       "      <td>0</td>\n",
       "    </tr>\n",
       "    <tr>\n",
       "      <th>...</th>\n",
       "      <td>...</td>\n",
       "      <td>...</td>\n",
       "      <td>...</td>\n",
       "      <td>...</td>\n",
       "      <td>...</td>\n",
       "      <td>...</td>\n",
       "      <td>...</td>\n",
       "      <td>...</td>\n",
       "      <td>...</td>\n",
       "      <td>...</td>\n",
       "      <td>...</td>\n",
       "      <td>...</td>\n",
       "    </tr>\n",
       "    <tr>\n",
       "      <th>9995</th>\n",
       "      <td>15606229</td>\n",
       "      <td>771</td>\n",
       "      <td>France</td>\n",
       "      <td>Male</td>\n",
       "      <td>39</td>\n",
       "      <td>5</td>\n",
       "      <td>0.00</td>\n",
       "      <td>2</td>\n",
       "      <td>1</td>\n",
       "      <td>0</td>\n",
       "      <td>96270.64</td>\n",
       "      <td>0</td>\n",
       "    </tr>\n",
       "    <tr>\n",
       "      <th>9996</th>\n",
       "      <td>15569892</td>\n",
       "      <td>516</td>\n",
       "      <td>France</td>\n",
       "      <td>Male</td>\n",
       "      <td>35</td>\n",
       "      <td>10</td>\n",
       "      <td>57369.61</td>\n",
       "      <td>1</td>\n",
       "      <td>1</td>\n",
       "      <td>1</td>\n",
       "      <td>101699.77</td>\n",
       "      <td>0</td>\n",
       "    </tr>\n",
       "    <tr>\n",
       "      <th>9997</th>\n",
       "      <td>15584532</td>\n",
       "      <td>709</td>\n",
       "      <td>France</td>\n",
       "      <td>Female</td>\n",
       "      <td>36</td>\n",
       "      <td>7</td>\n",
       "      <td>0.00</td>\n",
       "      <td>1</td>\n",
       "      <td>0</td>\n",
       "      <td>1</td>\n",
       "      <td>42085.58</td>\n",
       "      <td>1</td>\n",
       "    </tr>\n",
       "    <tr>\n",
       "      <th>9998</th>\n",
       "      <td>15682355</td>\n",
       "      <td>772</td>\n",
       "      <td>Germany</td>\n",
       "      <td>Male</td>\n",
       "      <td>42</td>\n",
       "      <td>3</td>\n",
       "      <td>75075.31</td>\n",
       "      <td>2</td>\n",
       "      <td>1</td>\n",
       "      <td>0</td>\n",
       "      <td>92888.52</td>\n",
       "      <td>1</td>\n",
       "    </tr>\n",
       "    <tr>\n",
       "      <th>9999</th>\n",
       "      <td>15628319</td>\n",
       "      <td>792</td>\n",
       "      <td>France</td>\n",
       "      <td>Female</td>\n",
       "      <td>28</td>\n",
       "      <td>4</td>\n",
       "      <td>130142.79</td>\n",
       "      <td>1</td>\n",
       "      <td>1</td>\n",
       "      <td>0</td>\n",
       "      <td>38190.78</td>\n",
       "      <td>0</td>\n",
       "    </tr>\n",
       "  </tbody>\n",
       "</table>\n",
       "<p>10000 rows × 12 columns</p>\n",
       "</div>"
      ],
      "text/plain": [
       "      customer_id  credit_score  country  gender  age  tenure    balance  \\\n",
       "0        15634602           619   France  Female   42       2       0.00   \n",
       "1        15647311           608    Spain  Female   41       1   83807.86   \n",
       "2        15619304           502   France  Female   42       8  159660.80   \n",
       "3        15701354           699   France  Female   39       1       0.00   \n",
       "4        15737888           850    Spain  Female   43       2  125510.82   \n",
       "...           ...           ...      ...     ...  ...     ...        ...   \n",
       "9995     15606229           771   France    Male   39       5       0.00   \n",
       "9996     15569892           516   France    Male   35      10   57369.61   \n",
       "9997     15584532           709   France  Female   36       7       0.00   \n",
       "9998     15682355           772  Germany    Male   42       3   75075.31   \n",
       "9999     15628319           792   France  Female   28       4  130142.79   \n",
       "\n",
       "      products_number  credit_card  active_member  estimated_salary  churn  \n",
       "0                   1            1              1         101348.88      1  \n",
       "1                   1            0              1         112542.58      0  \n",
       "2                   3            1              0         113931.57      1  \n",
       "3                   2            0              0          93826.63      0  \n",
       "4                   1            1              1          79084.10      0  \n",
       "...               ...          ...            ...               ...    ...  \n",
       "9995                2            1              0          96270.64      0  \n",
       "9996                1            1              1         101699.77      0  \n",
       "9997                1            0              1          42085.58      1  \n",
       "9998                2            1              0          92888.52      1  \n",
       "9999                1            1              0          38190.78      0  \n",
       "\n",
       "[10000 rows x 12 columns]"
      ]
     },
     "execution_count": 2,
     "metadata": {},
     "output_type": "execute_result"
    }
   ],
   "source": [
    "df = pd.read_csv(\"Bank Customer Churn Prediction.csv\")\n",
    "df"
   ]
  },
  {
   "cell_type": "code",
   "execution_count": 14,
   "metadata": {},
   "outputs": [
    {
     "name": "stdout",
     "output_type": "stream",
     "text": [
      "<class 'pandas.core.frame.DataFrame'>\n",
      "RangeIndex: 10000 entries, 0 to 9999\n",
      "Data columns (total 12 columns):\n",
      " #   Column            Non-Null Count  Dtype   \n",
      "---  ------            --------------  -----   \n",
      " 0   customer_id       10000 non-null  int64   \n",
      " 1   credit_score      10000 non-null  int64   \n",
      " 2   country           10000 non-null  object  \n",
      " 3   gender            10000 non-null  category\n",
      " 4   age               10000 non-null  int64   \n",
      " 5   tenure            10000 non-null  int64   \n",
      " 6   balance           10000 non-null  float64 \n",
      " 7   products_number   10000 non-null  int64   \n",
      " 8   credit_card       10000 non-null  int64   \n",
      " 9   active_member     10000 non-null  int64   \n",
      " 10  estimated_salary  10000 non-null  float64 \n",
      " 11  churn             10000 non-null  int64   \n",
      "dtypes: category(1), float64(2), int64(8), object(1)\n",
      "memory usage: 869.4+ KB\n"
     ]
    }
   ],
   "source": [
    "df.info()"
   ]
  },
  {
   "cell_type": "code",
   "execution_count": 4,
   "metadata": {},
   "outputs": [
    {
     "data": {
      "text/html": [
       "<div>\n",
       "<style scoped>\n",
       "    .dataframe tbody tr th:only-of-type {\n",
       "        vertical-align: middle;\n",
       "    }\n",
       "\n",
       "    .dataframe tbody tr th {\n",
       "        vertical-align: top;\n",
       "    }\n",
       "\n",
       "    .dataframe thead th {\n",
       "        text-align: right;\n",
       "    }\n",
       "</style>\n",
       "<table border=\"1\" class=\"dataframe\">\n",
       "  <thead>\n",
       "    <tr style=\"text-align: right;\">\n",
       "      <th></th>\n",
       "      <th>customer_id</th>\n",
       "      <th>credit_score</th>\n",
       "      <th>age</th>\n",
       "      <th>tenure</th>\n",
       "      <th>balance</th>\n",
       "      <th>products_number</th>\n",
       "      <th>credit_card</th>\n",
       "      <th>active_member</th>\n",
       "      <th>estimated_salary</th>\n",
       "      <th>churn</th>\n",
       "    </tr>\n",
       "  </thead>\n",
       "  <tbody>\n",
       "    <tr>\n",
       "      <th>count</th>\n",
       "      <td>1.000000e+04</td>\n",
       "      <td>10000.000000</td>\n",
       "      <td>10000.000000</td>\n",
       "      <td>10000.000000</td>\n",
       "      <td>10000.000000</td>\n",
       "      <td>10000.000000</td>\n",
       "      <td>10000.00000</td>\n",
       "      <td>10000.000000</td>\n",
       "      <td>10000.000000</td>\n",
       "      <td>10000.000000</td>\n",
       "    </tr>\n",
       "    <tr>\n",
       "      <th>mean</th>\n",
       "      <td>1.569094e+07</td>\n",
       "      <td>650.528800</td>\n",
       "      <td>38.921800</td>\n",
       "      <td>5.012800</td>\n",
       "      <td>76485.889288</td>\n",
       "      <td>1.530200</td>\n",
       "      <td>0.70550</td>\n",
       "      <td>0.515100</td>\n",
       "      <td>100090.239881</td>\n",
       "      <td>0.203700</td>\n",
       "    </tr>\n",
       "    <tr>\n",
       "      <th>std</th>\n",
       "      <td>7.193619e+04</td>\n",
       "      <td>96.653299</td>\n",
       "      <td>10.487806</td>\n",
       "      <td>2.892174</td>\n",
       "      <td>62397.405202</td>\n",
       "      <td>0.581654</td>\n",
       "      <td>0.45584</td>\n",
       "      <td>0.499797</td>\n",
       "      <td>57510.492818</td>\n",
       "      <td>0.402769</td>\n",
       "    </tr>\n",
       "    <tr>\n",
       "      <th>min</th>\n",
       "      <td>1.556570e+07</td>\n",
       "      <td>350.000000</td>\n",
       "      <td>18.000000</td>\n",
       "      <td>0.000000</td>\n",
       "      <td>0.000000</td>\n",
       "      <td>1.000000</td>\n",
       "      <td>0.00000</td>\n",
       "      <td>0.000000</td>\n",
       "      <td>11.580000</td>\n",
       "      <td>0.000000</td>\n",
       "    </tr>\n",
       "    <tr>\n",
       "      <th>25%</th>\n",
       "      <td>1.562853e+07</td>\n",
       "      <td>584.000000</td>\n",
       "      <td>32.000000</td>\n",
       "      <td>3.000000</td>\n",
       "      <td>0.000000</td>\n",
       "      <td>1.000000</td>\n",
       "      <td>0.00000</td>\n",
       "      <td>0.000000</td>\n",
       "      <td>51002.110000</td>\n",
       "      <td>0.000000</td>\n",
       "    </tr>\n",
       "    <tr>\n",
       "      <th>50%</th>\n",
       "      <td>1.569074e+07</td>\n",
       "      <td>652.000000</td>\n",
       "      <td>37.000000</td>\n",
       "      <td>5.000000</td>\n",
       "      <td>97198.540000</td>\n",
       "      <td>1.000000</td>\n",
       "      <td>1.00000</td>\n",
       "      <td>1.000000</td>\n",
       "      <td>100193.915000</td>\n",
       "      <td>0.000000</td>\n",
       "    </tr>\n",
       "    <tr>\n",
       "      <th>75%</th>\n",
       "      <td>1.575323e+07</td>\n",
       "      <td>718.000000</td>\n",
       "      <td>44.000000</td>\n",
       "      <td>7.000000</td>\n",
       "      <td>127644.240000</td>\n",
       "      <td>2.000000</td>\n",
       "      <td>1.00000</td>\n",
       "      <td>1.000000</td>\n",
       "      <td>149388.247500</td>\n",
       "      <td>0.000000</td>\n",
       "    </tr>\n",
       "    <tr>\n",
       "      <th>max</th>\n",
       "      <td>1.581569e+07</td>\n",
       "      <td>850.000000</td>\n",
       "      <td>92.000000</td>\n",
       "      <td>10.000000</td>\n",
       "      <td>250898.090000</td>\n",
       "      <td>4.000000</td>\n",
       "      <td>1.00000</td>\n",
       "      <td>1.000000</td>\n",
       "      <td>199992.480000</td>\n",
       "      <td>1.000000</td>\n",
       "    </tr>\n",
       "  </tbody>\n",
       "</table>\n",
       "</div>"
      ],
      "text/plain": [
       "        customer_id  credit_score           age        tenure        balance  \\\n",
       "count  1.000000e+04  10000.000000  10000.000000  10000.000000   10000.000000   \n",
       "mean   1.569094e+07    650.528800     38.921800      5.012800   76485.889288   \n",
       "std    7.193619e+04     96.653299     10.487806      2.892174   62397.405202   \n",
       "min    1.556570e+07    350.000000     18.000000      0.000000       0.000000   \n",
       "25%    1.562853e+07    584.000000     32.000000      3.000000       0.000000   \n",
       "50%    1.569074e+07    652.000000     37.000000      5.000000   97198.540000   \n",
       "75%    1.575323e+07    718.000000     44.000000      7.000000  127644.240000   \n",
       "max    1.581569e+07    850.000000     92.000000     10.000000  250898.090000   \n",
       "\n",
       "       products_number  credit_card  active_member  estimated_salary  \\\n",
       "count     10000.000000  10000.00000   10000.000000      10000.000000   \n",
       "mean          1.530200      0.70550       0.515100     100090.239881   \n",
       "std           0.581654      0.45584       0.499797      57510.492818   \n",
       "min           1.000000      0.00000       0.000000         11.580000   \n",
       "25%           1.000000      0.00000       0.000000      51002.110000   \n",
       "50%           1.000000      1.00000       1.000000     100193.915000   \n",
       "75%           2.000000      1.00000       1.000000     149388.247500   \n",
       "max           4.000000      1.00000       1.000000     199992.480000   \n",
       "\n",
       "              churn  \n",
       "count  10000.000000  \n",
       "mean       0.203700  \n",
       "std        0.402769  \n",
       "min        0.000000  \n",
       "25%        0.000000  \n",
       "50%        0.000000  \n",
       "75%        0.000000  \n",
       "max        1.000000  "
      ]
     },
     "execution_count": 4,
     "metadata": {},
     "output_type": "execute_result"
    }
   ],
   "source": [
    "df.describe()"
   ]
  },
  {
   "cell_type": "markdown",
   "metadata": {},
   "source": [
    "Data Cleaning\n",
    "- Null values\n",
    "- Duplicates\n",
    "- Wrong values\n",
    "- Wrong format\n",
    " "
   ]
  },
  {
   "cell_type": "code",
   "execution_count": 9,
   "metadata": {},
   "outputs": [
    {
     "data": {
      "text/plain": [
       "customer_id         0\n",
       "credit_score        0\n",
       "country             0\n",
       "gender              0\n",
       "age                 0\n",
       "tenure              0\n",
       "balance             0\n",
       "products_number     0\n",
       "credit_card         0\n",
       "active_member       0\n",
       "estimated_salary    0\n",
       "churn               0\n",
       "dtype: int64"
      ]
     },
     "execution_count": 9,
     "metadata": {},
     "output_type": "execute_result"
    }
   ],
   "source": [
    "# Checking for null values\n",
    "\n",
    "df.isna().sum()"
   ]
  },
  {
   "cell_type": "code",
   "execution_count": 12,
   "metadata": {},
   "outputs": [
    {
     "data": {
      "text/plain": [
       "0"
      ]
     },
     "execution_count": 12,
     "metadata": {},
     "output_type": "execute_result"
    }
   ],
   "source": [
    "# Checking for duplicates\n",
    "\n",
    "df.duplicated().sum()"
   ]
  },
  {
   "cell_type": "code",
   "execution_count": 13,
   "metadata": {},
   "outputs": [],
   "source": [
    "# Changing data format to categorical data\n",
    "\n",
    "df[\"gender\"] = df[\"gender\"].astype('category')"
   ]
  },
  {
   "cell_type": "code",
   "execution_count": 16,
   "metadata": {},
   "outputs": [
    {
     "data": {
      "text/html": [
       "<style type=\"text/css\">\n",
       "#T_edf05_row0_col0, #T_edf05_row1_col1, #T_edf05_row2_col2, #T_edf05_row3_col3, #T_edf05_row4_col4, #T_edf05_row5_col5, #T_edf05_row6_col6, #T_edf05_row7_col7, #T_edf05_row8_col8, #T_edf05_row9_col9 {\n",
       "  background-color: #b40426;\n",
       "  color: #f1f1f1;\n",
       "}\n",
       "#T_edf05_row0_col1, #T_edf05_row4_col1, #T_edf05_row5_col0, #T_edf05_row8_col3 {\n",
       "  background-color: #445acc;\n",
       "  color: #f1f1f1;\n",
       "}\n",
       "#T_edf05_row0_col2, #T_edf05_row3_col6, #T_edf05_row5_col1 {\n",
       "  background-color: #455cce;\n",
       "  color: #f1f1f1;\n",
       "}\n",
       "#T_edf05_row0_col3, #T_edf05_row9_col3 {\n",
       "  background-color: #3e51c5;\n",
       "  color: #f1f1f1;\n",
       "}\n",
       "#T_edf05_row0_col4, #T_edf05_row3_col4, #T_edf05_row7_col4 {\n",
       "  background-color: #84a7fc;\n",
       "  color: #f1f1f1;\n",
       "}\n",
       "#T_edf05_row0_col5 {\n",
       "  background-color: #8caffe;\n",
       "  color: #000000;\n",
       "}\n",
       "#T_edf05_row0_col6, #T_edf05_row2_col6, #T_edf05_row3_col0, #T_edf05_row4_col0, #T_edf05_row4_col5, #T_edf05_row4_col6, #T_edf05_row5_col2, #T_edf05_row5_col4, #T_edf05_row6_col0, #T_edf05_row6_col8, #T_edf05_row7_col3, #T_edf05_row7_col6, #T_edf05_row7_col8, #T_edf05_row7_col9, #T_edf05_row9_col1, #T_edf05_row9_col7 {\n",
       "  background-color: #3b4cc0;\n",
       "  color: #f1f1f1;\n",
       "}\n",
       "#T_edf05_row0_col7 {\n",
       "  background-color: #6485ec;\n",
       "  color: #f1f1f1;\n",
       "}\n",
       "#T_edf05_row0_col8, #T_edf05_row1_col2, #T_edf05_row2_col0, #T_edf05_row3_col1, #T_edf05_row4_col8, #T_edf05_row5_col8, #T_edf05_row8_col1 {\n",
       "  background-color: #4257c9;\n",
       "  color: #f1f1f1;\n",
       "}\n",
       "#T_edf05_row0_col9 {\n",
       "  background-color: #6384eb;\n",
       "  color: #f1f1f1;\n",
       "}\n",
       "#T_edf05_row1_col0, #T_edf05_row2_col1, #T_edf05_row3_col2, #T_edf05_row6_col1, #T_edf05_row8_col2, #T_edf05_row9_col8 {\n",
       "  background-color: #4055c8;\n",
       "  color: #f1f1f1;\n",
       "}\n",
       "#T_edf05_row1_col3, #T_edf05_row8_col0 {\n",
       "  background-color: #4358cb;\n",
       "  color: #f1f1f1;\n",
       "}\n",
       "#T_edf05_row1_col4, #T_edf05_row4_col9, #T_edf05_row6_col5 {\n",
       "  background-color: #88abfd;\n",
       "  color: #000000;\n",
       "}\n",
       "#T_edf05_row1_col5, #T_edf05_row3_col5, #T_edf05_row8_col4, #T_edf05_row8_col5 {\n",
       "  background-color: #8badfd;\n",
       "  color: #000000;\n",
       "}\n",
       "#T_edf05_row1_col6, #T_edf05_row1_col8, #T_edf05_row9_col0 {\n",
       "  background-color: #3d50c3;\n",
       "  color: #f1f1f1;\n",
       "}\n",
       "#T_edf05_row1_col7 {\n",
       "  background-color: #6c8ff1;\n",
       "  color: #f1f1f1;\n",
       "}\n",
       "#T_edf05_row1_col9, #T_edf05_row3_col7, #T_edf05_row7_col2 {\n",
       "  background-color: #5d7ce6;\n",
       "  color: #f1f1f1;\n",
       "}\n",
       "#T_edf05_row2_col3, #T_edf05_row3_col8, #T_edf05_row4_col3, #T_edf05_row5_col6, #T_edf05_row6_col2, #T_edf05_row7_col0 {\n",
       "  background-color: #3f53c6;\n",
       "  color: #f1f1f1;\n",
       "}\n",
       "#T_edf05_row2_col4 {\n",
       "  background-color: #8fb1fe;\n",
       "  color: #000000;\n",
       "}\n",
       "#T_edf05_row2_col5, #T_edf05_row2_col7 {\n",
       "  background-color: #7ea1fa;\n",
       "  color: #f1f1f1;\n",
       "}\n",
       "#T_edf05_row2_col8, #T_edf05_row8_col6, #T_edf05_row9_col6 {\n",
       "  background-color: #3c4ec2;\n",
       "  color: #f1f1f1;\n",
       "}\n",
       "#T_edf05_row2_col9 {\n",
       "  background-color: #bad0f8;\n",
       "  color: #000000;\n",
       "}\n",
       "#T_edf05_row3_col9, #T_edf05_row6_col7 {\n",
       "  background-color: #6180e9;\n",
       "  color: #f1f1f1;\n",
       "}\n",
       "#T_edf05_row4_col2 {\n",
       "  background-color: #4b64d5;\n",
       "  color: #f1f1f1;\n",
       "}\n",
       "#T_edf05_row4_col7, #T_edf05_row6_col9, #T_edf05_row8_col7 {\n",
       "  background-color: #6282ea;\n",
       "  color: #f1f1f1;\n",
       "}\n",
       "#T_edf05_row5_col3 {\n",
       "  background-color: #465ecf;\n",
       "  color: #f1f1f1;\n",
       "}\n",
       "#T_edf05_row5_col7 {\n",
       "  background-color: #6788ee;\n",
       "  color: #f1f1f1;\n",
       "}\n",
       "#T_edf05_row5_col9 {\n",
       "  background-color: #5673e0;\n",
       "  color: #f1f1f1;\n",
       "}\n",
       "#T_edf05_row6_col3 {\n",
       "  background-color: #4961d2;\n",
       "  color: #f1f1f1;\n",
       "}\n",
       "#T_edf05_row6_col4 {\n",
       "  background-color: #82a6fb;\n",
       "  color: #f1f1f1;\n",
       "}\n",
       "#T_edf05_row7_col1 {\n",
       "  background-color: #4a63d3;\n",
       "  color: #f1f1f1;\n",
       "}\n",
       "#T_edf05_row7_col5 {\n",
       "  background-color: #89acfd;\n",
       "  color: #000000;\n",
       "}\n",
       "#T_edf05_row8_col9 {\n",
       "  background-color: #688aef;\n",
       "  color: #f1f1f1;\n",
       "}\n",
       "#T_edf05_row9_col2 {\n",
       "  background-color: #a1c0ff;\n",
       "  color: #000000;\n",
       "}\n",
       "#T_edf05_row9_col4 {\n",
       "  background-color: #a6c4fe;\n",
       "  color: #000000;\n",
       "}\n",
       "#T_edf05_row9_col5 {\n",
       "  background-color: #7a9df8;\n",
       "  color: #f1f1f1;\n",
       "}\n",
       "</style>\n",
       "<table id=\"T_edf05\">\n",
       "  <thead>\n",
       "    <tr>\n",
       "      <th class=\"blank level0\" >&nbsp;</th>\n",
       "      <th id=\"T_edf05_level0_col0\" class=\"col_heading level0 col0\" >customer_id</th>\n",
       "      <th id=\"T_edf05_level0_col1\" class=\"col_heading level0 col1\" >credit_score</th>\n",
       "      <th id=\"T_edf05_level0_col2\" class=\"col_heading level0 col2\" >age</th>\n",
       "      <th id=\"T_edf05_level0_col3\" class=\"col_heading level0 col3\" >tenure</th>\n",
       "      <th id=\"T_edf05_level0_col4\" class=\"col_heading level0 col4\" >balance</th>\n",
       "      <th id=\"T_edf05_level0_col5\" class=\"col_heading level0 col5\" >products_number</th>\n",
       "      <th id=\"T_edf05_level0_col6\" class=\"col_heading level0 col6\" >credit_card</th>\n",
       "      <th id=\"T_edf05_level0_col7\" class=\"col_heading level0 col7\" >active_member</th>\n",
       "      <th id=\"T_edf05_level0_col8\" class=\"col_heading level0 col8\" >estimated_salary</th>\n",
       "      <th id=\"T_edf05_level0_col9\" class=\"col_heading level0 col9\" >churn</th>\n",
       "    </tr>\n",
       "  </thead>\n",
       "  <tbody>\n",
       "    <tr>\n",
       "      <th id=\"T_edf05_level0_row0\" class=\"row_heading level0 row0\" >customer_id</th>\n",
       "      <td id=\"T_edf05_row0_col0\" class=\"data row0 col0\" >1.000000</td>\n",
       "      <td id=\"T_edf05_row0_col1\" class=\"data row0 col1\" >0.005308</td>\n",
       "      <td id=\"T_edf05_row0_col2\" class=\"data row0 col2\" >0.009497</td>\n",
       "      <td id=\"T_edf05_row0_col3\" class=\"data row0 col3\" >-0.014883</td>\n",
       "      <td id=\"T_edf05_row0_col4\" class=\"data row0 col4\" >-0.012419</td>\n",
       "      <td id=\"T_edf05_row0_col5\" class=\"data row0 col5\" >0.016972</td>\n",
       "      <td id=\"T_edf05_row0_col6\" class=\"data row0 col6\" >-0.014025</td>\n",
       "      <td id=\"T_edf05_row0_col7\" class=\"data row0 col7\" >0.001665</td>\n",
       "      <td id=\"T_edf05_row0_col8\" class=\"data row0 col8\" >0.015271</td>\n",
       "      <td id=\"T_edf05_row0_col9\" class=\"data row0 col9\" >-0.006248</td>\n",
       "    </tr>\n",
       "    <tr>\n",
       "      <th id=\"T_edf05_level0_row1\" class=\"row_heading level0 row1\" >credit_score</th>\n",
       "      <td id=\"T_edf05_row1_col0\" class=\"data row1 col0\" >0.005308</td>\n",
       "      <td id=\"T_edf05_row1_col1\" class=\"data row1 col1\" >1.000000</td>\n",
       "      <td id=\"T_edf05_row1_col2\" class=\"data row1 col2\" >-0.003965</td>\n",
       "      <td id=\"T_edf05_row1_col3\" class=\"data row1 col3\" >0.000842</td>\n",
       "      <td id=\"T_edf05_row1_col4\" class=\"data row1 col4\" >0.006268</td>\n",
       "      <td id=\"T_edf05_row1_col5\" class=\"data row1 col5\" >0.012238</td>\n",
       "      <td id=\"T_edf05_row1_col6\" class=\"data row1 col6\" >-0.005458</td>\n",
       "      <td id=\"T_edf05_row1_col7\" class=\"data row1 col7\" >0.025651</td>\n",
       "      <td id=\"T_edf05_row1_col8\" class=\"data row1 col8\" >-0.001384</td>\n",
       "      <td id=\"T_edf05_row1_col9\" class=\"data row1 col9\" >-0.027094</td>\n",
       "    </tr>\n",
       "    <tr>\n",
       "      <th id=\"T_edf05_level0_row2\" class=\"row_heading level0 row2\" >age</th>\n",
       "      <td id=\"T_edf05_row2_col0\" class=\"data row2 col0\" >0.009497</td>\n",
       "      <td id=\"T_edf05_row2_col1\" class=\"data row2 col1\" >-0.003965</td>\n",
       "      <td id=\"T_edf05_row2_col2\" class=\"data row2 col2\" >1.000000</td>\n",
       "      <td id=\"T_edf05_row2_col3\" class=\"data row2 col3\" >-0.009997</td>\n",
       "      <td id=\"T_edf05_row2_col4\" class=\"data row2 col4\" >0.028308</td>\n",
       "      <td id=\"T_edf05_row2_col5\" class=\"data row2 col5\" >-0.030680</td>\n",
       "      <td id=\"T_edf05_row2_col6\" class=\"data row2 col6\" >-0.011721</td>\n",
       "      <td id=\"T_edf05_row2_col7\" class=\"data row2 col7\" >0.085472</td>\n",
       "      <td id=\"T_edf05_row2_col8\" class=\"data row2 col8\" >-0.007201</td>\n",
       "      <td id=\"T_edf05_row2_col9\" class=\"data row2 col9\" >0.285323</td>\n",
       "    </tr>\n",
       "    <tr>\n",
       "      <th id=\"T_edf05_level0_row3\" class=\"row_heading level0 row3\" >tenure</th>\n",
       "      <td id=\"T_edf05_row3_col0\" class=\"data row3 col0\" >-0.014883</td>\n",
       "      <td id=\"T_edf05_row3_col1\" class=\"data row3 col1\" >0.000842</td>\n",
       "      <td id=\"T_edf05_row3_col2\" class=\"data row3 col2\" >-0.009997</td>\n",
       "      <td id=\"T_edf05_row3_col3\" class=\"data row3 col3\" >1.000000</td>\n",
       "      <td id=\"T_edf05_row3_col4\" class=\"data row3 col4\" >-0.012254</td>\n",
       "      <td id=\"T_edf05_row3_col5\" class=\"data row3 col5\" >0.013444</td>\n",
       "      <td id=\"T_edf05_row3_col6\" class=\"data row3 col6\" >0.022583</td>\n",
       "      <td id=\"T_edf05_row3_col7\" class=\"data row3 col7\" >-0.028362</td>\n",
       "      <td id=\"T_edf05_row3_col8\" class=\"data row3 col8\" >0.007784</td>\n",
       "      <td id=\"T_edf05_row3_col9\" class=\"data row3 col9\" >-0.014001</td>\n",
       "    </tr>\n",
       "    <tr>\n",
       "      <th id=\"T_edf05_level0_row4\" class=\"row_heading level0 row4\" >balance</th>\n",
       "      <td id=\"T_edf05_row4_col0\" class=\"data row4 col0\" >-0.012419</td>\n",
       "      <td id=\"T_edf05_row4_col1\" class=\"data row4 col1\" >0.006268</td>\n",
       "      <td id=\"T_edf05_row4_col2\" class=\"data row4 col2\" >0.028308</td>\n",
       "      <td id=\"T_edf05_row4_col3\" class=\"data row4 col3\" >-0.012254</td>\n",
       "      <td id=\"T_edf05_row4_col4\" class=\"data row4 col4\" >1.000000</td>\n",
       "      <td id=\"T_edf05_row4_col5\" class=\"data row4 col5\" >-0.304180</td>\n",
       "      <td id=\"T_edf05_row4_col6\" class=\"data row4 col6\" >-0.014858</td>\n",
       "      <td id=\"T_edf05_row4_col7\" class=\"data row4 col7\" >-0.010084</td>\n",
       "      <td id=\"T_edf05_row4_col8\" class=\"data row4 col8\" >0.012797</td>\n",
       "      <td id=\"T_edf05_row4_col9\" class=\"data row4 col9\" >0.118533</td>\n",
       "    </tr>\n",
       "    <tr>\n",
       "      <th id=\"T_edf05_level0_row5\" class=\"row_heading level0 row5\" >products_number</th>\n",
       "      <td id=\"T_edf05_row5_col0\" class=\"data row5 col0\" >0.016972</td>\n",
       "      <td id=\"T_edf05_row5_col1\" class=\"data row5 col1\" >0.012238</td>\n",
       "      <td id=\"T_edf05_row5_col2\" class=\"data row5 col2\" >-0.030680</td>\n",
       "      <td id=\"T_edf05_row5_col3\" class=\"data row5 col3\" >0.013444</td>\n",
       "      <td id=\"T_edf05_row5_col4\" class=\"data row5 col4\" >-0.304180</td>\n",
       "      <td id=\"T_edf05_row5_col5\" class=\"data row5 col5\" >1.000000</td>\n",
       "      <td id=\"T_edf05_row5_col6\" class=\"data row5 col6\" >0.003183</td>\n",
       "      <td id=\"T_edf05_row5_col7\" class=\"data row5 col7\" >0.009612</td>\n",
       "      <td id=\"T_edf05_row5_col8\" class=\"data row5 col8\" >0.014204</td>\n",
       "      <td id=\"T_edf05_row5_col9\" class=\"data row5 col9\" >-0.047820</td>\n",
       "    </tr>\n",
       "    <tr>\n",
       "      <th id=\"T_edf05_level0_row6\" class=\"row_heading level0 row6\" >credit_card</th>\n",
       "      <td id=\"T_edf05_row6_col0\" class=\"data row6 col0\" >-0.014025</td>\n",
       "      <td id=\"T_edf05_row6_col1\" class=\"data row6 col1\" >-0.005458</td>\n",
       "      <td id=\"T_edf05_row6_col2\" class=\"data row6 col2\" >-0.011721</td>\n",
       "      <td id=\"T_edf05_row6_col3\" class=\"data row6 col3\" >0.022583</td>\n",
       "      <td id=\"T_edf05_row6_col4\" class=\"data row6 col4\" >-0.014858</td>\n",
       "      <td id=\"T_edf05_row6_col5\" class=\"data row6 col5\" >0.003183</td>\n",
       "      <td id=\"T_edf05_row6_col6\" class=\"data row6 col6\" >1.000000</td>\n",
       "      <td id=\"T_edf05_row6_col7\" class=\"data row6 col7\" >-0.011866</td>\n",
       "      <td id=\"T_edf05_row6_col8\" class=\"data row6 col8\" >-0.009933</td>\n",
       "      <td id=\"T_edf05_row6_col9\" class=\"data row6 col9\" >-0.007138</td>\n",
       "    </tr>\n",
       "    <tr>\n",
       "      <th id=\"T_edf05_level0_row7\" class=\"row_heading level0 row7\" >active_member</th>\n",
       "      <td id=\"T_edf05_row7_col0\" class=\"data row7 col0\" >0.001665</td>\n",
       "      <td id=\"T_edf05_row7_col1\" class=\"data row7 col1\" >0.025651</td>\n",
       "      <td id=\"T_edf05_row7_col2\" class=\"data row7 col2\" >0.085472</td>\n",
       "      <td id=\"T_edf05_row7_col3\" class=\"data row7 col3\" >-0.028362</td>\n",
       "      <td id=\"T_edf05_row7_col4\" class=\"data row7 col4\" >-0.010084</td>\n",
       "      <td id=\"T_edf05_row7_col5\" class=\"data row7 col5\" >0.009612</td>\n",
       "      <td id=\"T_edf05_row7_col6\" class=\"data row7 col6\" >-0.011866</td>\n",
       "      <td id=\"T_edf05_row7_col7\" class=\"data row7 col7\" >1.000000</td>\n",
       "      <td id=\"T_edf05_row7_col8\" class=\"data row7 col8\" >-0.011421</td>\n",
       "      <td id=\"T_edf05_row7_col9\" class=\"data row7 col9\" >-0.156128</td>\n",
       "    </tr>\n",
       "    <tr>\n",
       "      <th id=\"T_edf05_level0_row8\" class=\"row_heading level0 row8\" >estimated_salary</th>\n",
       "      <td id=\"T_edf05_row8_col0\" class=\"data row8 col0\" >0.015271</td>\n",
       "      <td id=\"T_edf05_row8_col1\" class=\"data row8 col1\" >-0.001384</td>\n",
       "      <td id=\"T_edf05_row8_col2\" class=\"data row8 col2\" >-0.007201</td>\n",
       "      <td id=\"T_edf05_row8_col3\" class=\"data row8 col3\" >0.007784</td>\n",
       "      <td id=\"T_edf05_row8_col4\" class=\"data row8 col4\" >0.012797</td>\n",
       "      <td id=\"T_edf05_row8_col5\" class=\"data row8 col5\" >0.014204</td>\n",
       "      <td id=\"T_edf05_row8_col6\" class=\"data row8 col6\" >-0.009933</td>\n",
       "      <td id=\"T_edf05_row8_col7\" class=\"data row8 col7\" >-0.011421</td>\n",
       "      <td id=\"T_edf05_row8_col8\" class=\"data row8 col8\" >1.000000</td>\n",
       "      <td id=\"T_edf05_row8_col9\" class=\"data row8 col9\" >0.012097</td>\n",
       "    </tr>\n",
       "    <tr>\n",
       "      <th id=\"T_edf05_level0_row9\" class=\"row_heading level0 row9\" >churn</th>\n",
       "      <td id=\"T_edf05_row9_col0\" class=\"data row9 col0\" >-0.006248</td>\n",
       "      <td id=\"T_edf05_row9_col1\" class=\"data row9 col1\" >-0.027094</td>\n",
       "      <td id=\"T_edf05_row9_col2\" class=\"data row9 col2\" >0.285323</td>\n",
       "      <td id=\"T_edf05_row9_col3\" class=\"data row9 col3\" >-0.014001</td>\n",
       "      <td id=\"T_edf05_row9_col4\" class=\"data row9 col4\" >0.118533</td>\n",
       "      <td id=\"T_edf05_row9_col5\" class=\"data row9 col5\" >-0.047820</td>\n",
       "      <td id=\"T_edf05_row9_col6\" class=\"data row9 col6\" >-0.007138</td>\n",
       "      <td id=\"T_edf05_row9_col7\" class=\"data row9 col7\" >-0.156128</td>\n",
       "      <td id=\"T_edf05_row9_col8\" class=\"data row9 col8\" >0.012097</td>\n",
       "      <td id=\"T_edf05_row9_col9\" class=\"data row9 col9\" >1.000000</td>\n",
       "    </tr>\n",
       "  </tbody>\n",
       "</table>\n"
      ],
      "text/plain": [
       "<pandas.io.formats.style.Styler at 0x29bccc29fc0>"
      ]
     },
     "execution_count": 16,
     "metadata": {},
     "output_type": "execute_result"
    }
   ],
   "source": [
    "corr = df.corr()\n",
    "corr.style.background_gradient(cmap='coolwarm')"
   ]
  },
  {
   "cell_type": "markdown",
   "metadata": {},
   "source": [
    "Data is clean\n",
    "No correlation"
   ]
  },
  {
   "cell_type": "markdown",
   "metadata": {},
   "source": [
    "# Machine Learning"
   ]
  },
  {
   "cell_type": "code",
   "execution_count": 17,
   "metadata": {},
   "outputs": [],
   "source": [
    "from sklearn import preprocessing\n",
    "from sklearn.linear_model import LogisticRegression\n",
    "from sklearn.model_selection import train_test_split"
   ]
  },
  {
   "cell_type": "code",
   "execution_count": 19,
   "metadata": {},
   "outputs": [
    {
     "name": "stdout",
     "output_type": "stream",
     "text": [
      "<class 'pandas.core.frame.DataFrame'>\n",
      "RangeIndex: 10000 entries, 0 to 9999\n",
      "Data columns (total 12 columns):\n",
      " #   Column            Non-Null Count  Dtype   \n",
      "---  ------            --------------  -----   \n",
      " 0   customer_id       10000 non-null  int64   \n",
      " 1   credit_score      10000 non-null  int64   \n",
      " 2   country           10000 non-null  object  \n",
      " 3   gender            10000 non-null  category\n",
      " 4   age               10000 non-null  int64   \n",
      " 5   tenure            10000 non-null  int64   \n",
      " 6   balance           10000 non-null  float64 \n",
      " 7   products_number   10000 non-null  int64   \n",
      " 8   credit_card       10000 non-null  int64   \n",
      " 9   active_member     10000 non-null  int64   \n",
      " 10  estimated_salary  10000 non-null  float64 \n",
      " 11  churn             10000 non-null  int64   \n",
      "dtypes: category(1), float64(2), int64(8), object(1)\n",
      "memory usage: 869.4+ KB\n"
     ]
    }
   ],
   "source": [
    "df.info()"
   ]
  },
  {
   "cell_type": "code",
   "execution_count": 24,
   "metadata": {},
   "outputs": [
    {
     "data": {
      "text/plain": [
       "0    7963\n",
       "1    2037\n",
       "Name: churn, dtype: int64"
      ]
     },
     "execution_count": 24,
     "metadata": {},
     "output_type": "execute_result"
    }
   ],
   "source": [
    "df.churn.unique()\n",
    "df.churn.value_counts()"
   ]
  },
  {
   "cell_type": "code",
   "execution_count": 27,
   "metadata": {},
   "outputs": [
    {
     "data": {
      "image/png": "[encoded data removed]",
      "text/plain": [
       "<Figure size 432x288 with 1 Axes>"
      ]
     },
     "metadata": {
      "needs_background": "light"
     },
     "output_type": "display_data"
    }
   ],
   "source": [
    "sns.countplot(x=\"churn\", data=df)\n",
    "plt.show()"
   ]
  },
  {
   "cell_type": "code",
   "execution_count": 31,
   "metadata": {},
   "outputs": [
    {
     "name": "stdout",
     "output_type": "stream",
     "text": [
      "percentage of churn: 20.4\n",
      "percentage of no churn: 79.6\n"
     ]
    }
   ],
   "source": [
    "churn = len(df[df[\"churn\"] == 1])\n",
    "no_churn = len(df[df[\"churn\"] == 0])\n",
    "perc_churn = (churn*100)/len(df)\n",
    "perc_nochurn = (no_churn*100)/len(df)\n",
    "print(f\"percentage of churn: {perc_churn:.1f}\")\n",
    "print(f\"percentage of no churn: {perc_nochurn:.1f}\")"
   ]
  },
  {
   "cell_type": "markdown",
   "metadata": {},
   "source": [
    "Encoding categorical data"
   ]
  },
  {
   "cell_type": "code",
   "execution_count": 37,
   "metadata": {},
   "outputs": [],
   "source": [
    "from sklearn.preprocessing import OneHotEncoder\n",
    "encoder = OneHotEncoder()\n",
    "onehotarray = encoder.fit_transform(df[[\"gender\"]]).toarray()\n",
    "items = [f'{\"gender\"}_{item}' for item in encoder.categories_[0]]\n",
    "df[items] = onehotarray"
   ]
  },
  {
   "cell_type": "code",
   "execution_count": 38,
   "metadata": {},
   "outputs": [
    {
     "data": {
      "text/html": [
       "<div>\n",
       "<style scoped>\n",
       "    .dataframe tbody tr th:only-of-type {\n",
       "        vertical-align: middle;\n",
       "    }\n",
       "\n",
       "    .dataframe tbody tr th {\n",
       "        vertical-align: top;\n",
       "    }\n",
       "\n",
       "    .dataframe thead th {\n",
       "        text-align: right;\n",
       "    }\n",
       "</style>\n",
       "<table border=\"1\" class=\"dataframe\">\n",
       "  <thead>\n",
       "    <tr style=\"text-align: right;\">\n",
       "      <th></th>\n",
       "      <th>customer_id</th>\n",
       "      <th>credit_score</th>\n",
       "      <th>country</th>\n",
       "      <th>gender</th>\n",
       "      <th>age</th>\n",
       "      <th>tenure</th>\n",
       "      <th>balance</th>\n",
       "      <th>products_number</th>\n",
       "      <th>credit_card</th>\n",
       "      <th>active_member</th>\n",
       "      <th>estimated_salary</th>\n",
       "      <th>churn</th>\n",
       "      <th>gender_Female</th>\n",
       "      <th>gender_Male</th>\n",
       "    </tr>\n",
       "  </thead>\n",
       "  <tbody>\n",
       "    <tr>\n",
       "      <th>0</th>\n",
       "      <td>15634602</td>\n",
       "      <td>619</td>\n",
       "      <td>France</td>\n",
       "      <td>Female</td>\n",
       "      <td>42</td>\n",
       "      <td>2</td>\n",
       "      <td>0.00</td>\n",
       "      <td>1</td>\n",
       "      <td>1</td>\n",
       "      <td>1</td>\n",
       "      <td>101348.88</td>\n",
       "      <td>1</td>\n",
       "      <td>1.0</td>\n",
       "      <td>0.0</td>\n",
       "    </tr>\n",
       "    <tr>\n",
       "      <th>1</th>\n",
       "      <td>15647311</td>\n",
       "      <td>608</td>\n",
       "      <td>Spain</td>\n",
       "      <td>Female</td>\n",
       "      <td>41</td>\n",
       "      <td>1</td>\n",
       "      <td>83807.86</td>\n",
       "      <td>1</td>\n",
       "      <td>0</td>\n",
       "      <td>1</td>\n",
       "      <td>112542.58</td>\n",
       "      <td>0</td>\n",
       "      <td>1.0</td>\n",
       "      <td>0.0</td>\n",
       "    </tr>\n",
       "    <tr>\n",
       "      <th>2</th>\n",
       "      <td>15619304</td>\n",
       "      <td>502</td>\n",
       "      <td>France</td>\n",
       "      <td>Female</td>\n",
       "      <td>42</td>\n",
       "      <td>8</td>\n",
       "      <td>159660.80</td>\n",
       "      <td>3</td>\n",
       "      <td>1</td>\n",
       "      <td>0</td>\n",
       "      <td>113931.57</td>\n",
       "      <td>1</td>\n",
       "      <td>1.0</td>\n",
       "      <td>0.0</td>\n",
       "    </tr>\n",
       "    <tr>\n",
       "      <th>3</th>\n",
       "      <td>15701354</td>\n",
       "      <td>699</td>\n",
       "      <td>France</td>\n",
       "      <td>Female</td>\n",
       "      <td>39</td>\n",
       "      <td>1</td>\n",
       "      <td>0.00</td>\n",
       "      <td>2</td>\n",
       "      <td>0</td>\n",
       "      <td>0</td>\n",
       "      <td>93826.63</td>\n",
       "      <td>0</td>\n",
       "      <td>1.0</td>\n",
       "      <td>0.0</td>\n",
       "    </tr>\n",
       "    <tr>\n",
       "      <th>4</th>\n",
       "      <td>15737888</td>\n",
       "      <td>850</td>\n",
       "      <td>Spain</td>\n",
       "      <td>Female</td>\n",
       "      <td>43</td>\n",
       "      <td>2</td>\n",
       "      <td>125510.82</td>\n",
       "      <td>1</td>\n",
       "      <td>1</td>\n",
       "      <td>1</td>\n",
       "      <td>79084.10</td>\n",
       "      <td>0</td>\n",
       "      <td>1.0</td>\n",
       "      <td>0.0</td>\n",
       "    </tr>\n",
       "    <tr>\n",
       "      <th>...</th>\n",
       "      <td>...</td>\n",
       "      <td>...</td>\n",
       "      <td>...</td>\n",
       "      <td>...</td>\n",
       "      <td>...</td>\n",
       "      <td>...</td>\n",
       "      <td>...</td>\n",
       "      <td>...</td>\n",
       "      <td>...</td>\n",
       "      <td>...</td>\n",
       "      <td>...</td>\n",
       "      <td>...</td>\n",
       "      <td>...</td>\n",
       "      <td>...</td>\n",
       "    </tr>\n",
       "    <tr>\n",
       "      <th>9995</th>\n",
       "      <td>15606229</td>\n",
       "      <td>771</td>\n",
       "      <td>France</td>\n",
       "      <td>Male</td>\n",
       "      <td>39</td>\n",
       "      <td>5</td>\n",
       "      <td>0.00</td>\n",
       "      <td>2</td>\n",
       "      <td>1</td>\n",
       "      <td>0</td>\n",
       "      <td>96270.64</td>\n",
       "      <td>0</td>\n",
       "      <td>0.0</td>\n",
       "      <td>1.0</td>\n",
       "    </tr>\n",
       "    <tr>\n",
       "      <th>9996</th>\n",
       "      <td>15569892</td>\n",
       "      <td>516</td>\n",
       "      <td>France</td>\n",
       "      <td>Male</td>\n",
       "      <td>35</td>\n",
       "      <td>10</td>\n",
       "      <td>57369.61</td>\n",
       "      <td>1</td>\n",
       "      <td>1</td>\n",
       "      <td>1</td>\n",
       "      <td>101699.77</td>\n",
       "      <td>0</td>\n",
       "      <td>0.0</td>\n",
       "      <td>1.0</td>\n",
       "    </tr>\n",
       "    <tr>\n",
       "      <th>9997</th>\n",
       "      <td>15584532</td>\n",
       "      <td>709</td>\n",
       "      <td>France</td>\n",
       "      <td>Female</td>\n",
       "      <td>36</td>\n",
       "      <td>7</td>\n",
       "      <td>0.00</td>\n",
       "      <td>1</td>\n",
       "      <td>0</td>\n",
       "      <td>1</td>\n",
       "      <td>42085.58</td>\n",
       "      <td>1</td>\n",
       "      <td>1.0</td>\n",
       "      <td>0.0</td>\n",
       "    </tr>\n",
       "    <tr>\n",
       "      <th>9998</th>\n",
       "      <td>15682355</td>\n",
       "      <td>772</td>\n",
       "      <td>Germany</td>\n",
       "      <td>Male</td>\n",
       "      <td>42</td>\n",
       "      <td>3</td>\n",
       "      <td>75075.31</td>\n",
       "      <td>2</td>\n",
       "      <td>1</td>\n",
       "      <td>0</td>\n",
       "      <td>92888.52</td>\n",
       "      <td>1</td>\n",
       "      <td>0.0</td>\n",
       "      <td>1.0</td>\n",
       "    </tr>\n",
       "    <tr>\n",
       "      <th>9999</th>\n",
       "      <td>15628319</td>\n",
       "      <td>792</td>\n",
       "      <td>France</td>\n",
       "      <td>Female</td>\n",
       "      <td>28</td>\n",
       "      <td>4</td>\n",
       "      <td>130142.79</td>\n",
       "      <td>1</td>\n",
       "      <td>1</td>\n",
       "      <td>0</td>\n",
       "      <td>38190.78</td>\n",
       "      <td>0</td>\n",
       "      <td>1.0</td>\n",
       "      <td>0.0</td>\n",
       "    </tr>\n",
       "  </tbody>\n",
       "</table>\n",
       "<p>10000 rows × 14 columns</p>\n",
       "</div>"
      ],
      "text/plain": [
       "      customer_id  credit_score  country  gender  age  tenure    balance  \\\n",
       "0        15634602           619   France  Female   42       2       0.00   \n",
       "1        15647311           608    Spain  Female   41       1   83807.86   \n",
       "2        15619304           502   France  Female   42       8  159660.80   \n",
       "3        15701354           699   France  Female   39       1       0.00   \n",
       "4        15737888           850    Spain  Female   43       2  125510.82   \n",
       "...           ...           ...      ...     ...  ...     ...        ...   \n",
       "9995     15606229           771   France    Male   39       5       0.00   \n",
       "9996     15569892           516   France    Male   35      10   57369.61   \n",
       "9997     15584532           709   France  Female   36       7       0.00   \n",
       "9998     15682355           772  Germany    Male   42       3   75075.31   \n",
       "9999     15628319           792   France  Female   28       4  130142.79   \n",
       "\n",
       "      products_number  credit_card  active_member  estimated_salary  churn  \\\n",
       "0                   1            1              1         101348.88      1   \n",
       "1                   1            0              1         112542.58      0   \n",
       "2                   3            1              0         113931.57      1   \n",
       "3                   2            0              0          93826.63      0   \n",
       "4                   1            1              1          79084.10      0   \n",
       "...               ...          ...            ...               ...    ...   \n",
       "9995                2            1              0          96270.64      0   \n",
       "9996                1            1              1         101699.77      0   \n",
       "9997                1            0              1          42085.58      1   \n",
       "9998                2            1              0          92888.52      1   \n",
       "9999                1            1              0          38190.78      0   \n",
       "\n",
       "      gender_Female  gender_Male  \n",
       "0               1.0          0.0  \n",
       "1               1.0          0.0  \n",
       "2               1.0          0.0  \n",
       "3               1.0          0.0  \n",
       "4               1.0          0.0  \n",
       "...             ...          ...  \n",
       "9995            0.0          1.0  \n",
       "9996            0.0          1.0  \n",
       "9997            1.0          0.0  \n",
       "9998            0.0          1.0  \n",
       "9999            1.0          0.0  \n",
       "\n",
       "[10000 rows x 14 columns]"
      ]
     },
     "execution_count": 38,
     "metadata": {},
     "output_type": "execute_result"
    }
   ],
   "source": [
    "df"
   ]
  },
  {
   "cell_type": "markdown",
   "metadata": {},
   "source": [
    "Test p-value for significance"
   ]
  },
  {
   "cell_type": "code",
   "execution_count": 40,
   "metadata": {},
   "outputs": [
    {
     "data": {
      "text/html": [
       "<div>\n",
       "<style scoped>\n",
       "    .dataframe tbody tr th:only-of-type {\n",
       "        vertical-align: middle;\n",
       "    }\n",
       "\n",
       "    .dataframe tbody tr th {\n",
       "        vertical-align: top;\n",
       "    }\n",
       "\n",
       "    .dataframe thead th {\n",
       "        text-align: right;\n",
       "    }\n",
       "</style>\n",
       "<table border=\"1\" class=\"dataframe\">\n",
       "  <thead>\n",
       "    <tr style=\"text-align: right;\">\n",
       "      <th></th>\n",
       "      <th>r</th>\n",
       "      <th>P-value</th>\n",
       "    </tr>\n",
       "  </thead>\n",
       "  <tbody>\n",
       "    <tr>\n",
       "      <th>customer_id</th>\n",
       "      <td>-0.0062</td>\n",
       "      <td>0.5322</td>\n",
       "    </tr>\n",
       "    <tr>\n",
       "      <th>credit_score</th>\n",
       "      <td>-0.0271</td>\n",
       "      <td>0.0067</td>\n",
       "    </tr>\n",
       "    <tr>\n",
       "      <th>age</th>\n",
       "      <td>0.2853</td>\n",
       "      <td>0.0000</td>\n",
       "    </tr>\n",
       "    <tr>\n",
       "      <th>tenure</th>\n",
       "      <td>-0.0140</td>\n",
       "      <td>0.1615</td>\n",
       "    </tr>\n",
       "    <tr>\n",
       "      <th>balance</th>\n",
       "      <td>0.1185</td>\n",
       "      <td>0.0000</td>\n",
       "    </tr>\n",
       "    <tr>\n",
       "      <th>products_number</th>\n",
       "      <td>-0.0478</td>\n",
       "      <td>0.0000</td>\n",
       "    </tr>\n",
       "    <tr>\n",
       "      <th>credit_card</th>\n",
       "      <td>-0.0071</td>\n",
       "      <td>0.4754</td>\n",
       "    </tr>\n",
       "    <tr>\n",
       "      <th>active_member</th>\n",
       "      <td>-0.1561</td>\n",
       "      <td>0.0000</td>\n",
       "    </tr>\n",
       "    <tr>\n",
       "      <th>estimated_salary</th>\n",
       "      <td>0.0121</td>\n",
       "      <td>0.2264</td>\n",
       "    </tr>\n",
       "    <tr>\n",
       "      <th>churn</th>\n",
       "      <td>1.0000</td>\n",
       "      <td>0.0000</td>\n",
       "    </tr>\n",
       "    <tr>\n",
       "      <th>gender_Female</th>\n",
       "      <td>0.1065</td>\n",
       "      <td>0.0000</td>\n",
       "    </tr>\n",
       "    <tr>\n",
       "      <th>gender_Male</th>\n",
       "      <td>-0.1065</td>\n",
       "      <td>0.0000</td>\n",
       "    </tr>\n",
       "  </tbody>\n",
       "</table>\n",
       "</div>"
      ],
      "text/plain": [
       "                       r  P-value\n",
       "customer_id      -0.0062   0.5322\n",
       "credit_score     -0.0271   0.0067\n",
       "age               0.2853   0.0000\n",
       "tenure           -0.0140   0.1615\n",
       "balance           0.1185   0.0000\n",
       "products_number  -0.0478   0.0000\n",
       "credit_card      -0.0071   0.4754\n",
       "active_member    -0.1561   0.0000\n",
       "estimated_salary  0.0121   0.2264\n",
       "churn             1.0000   0.0000\n",
       "gender_Female     0.1065   0.0000\n",
       "gender_Male      -0.1065   0.0000"
      ]
     },
     "execution_count": 40,
     "metadata": {},
     "output_type": "execute_result"
    }
   ],
   "source": [
    "from scipy import stats\n",
    "\n",
    "corr_df = pd.DataFrame(columns=['r', 'P-value'])\n",
    "\n",
    "for col in df:\n",
    "    if pd.api.types.is_numeric_dtype(df[col]):\n",
    "        r , p = stats.pearsonr(df.churn, df[col])\n",
    "        corr_df.loc[col] = [round(r, 4), round(p, 4)]\n",
    "    \n",
    "corr_df"
   ]
  },
  {
   "cell_type": "markdown",
   "metadata": {},
   "source": [
    "Drop statistically insignificant columns i.e. customer_id, tenure, credit_card, estimated_salary"
   ]
  },
  {
   "cell_type": "code",
   "execution_count": 48,
   "metadata": {},
   "outputs": [],
   "source": [
    "y = df.churn.values\n",
    "x_data = df.drop(['customer_id','gender','country','churn','tenure','credit_card','estimated_salary'], axis='columns') "
   ]
  },
  {
   "cell_type": "code",
   "execution_count": 49,
   "metadata": {},
   "outputs": [
    {
     "data": {
      "text/html": [
       "<div>\n",
       "<style scoped>\n",
       "    .dataframe tbody tr th:only-of-type {\n",
       "        vertical-align: middle;\n",
       "    }\n",
       "\n",
       "    .dataframe tbody tr th {\n",
       "        vertical-align: top;\n",
       "    }\n",
       "\n",
       "    .dataframe thead th {\n",
       "        text-align: right;\n",
       "    }\n",
       "</style>\n",
       "<table border=\"1\" class=\"dataframe\">\n",
       "  <thead>\n",
       "    <tr style=\"text-align: right;\">\n",
       "      <th></th>\n",
       "      <th>credit_score</th>\n",
       "      <th>age</th>\n",
       "      <th>balance</th>\n",
       "      <th>products_number</th>\n",
       "      <th>active_member</th>\n",
       "      <th>gender_Female</th>\n",
       "      <th>gender_Male</th>\n",
       "    </tr>\n",
       "  </thead>\n",
       "  <tbody>\n",
       "    <tr>\n",
       "      <th>0</th>\n",
       "      <td>619</td>\n",
       "      <td>42</td>\n",
       "      <td>0.00</td>\n",
       "      <td>1</td>\n",
       "      <td>1</td>\n",
       "      <td>1.0</td>\n",
       "      <td>0.0</td>\n",
       "    </tr>\n",
       "    <tr>\n",
       "      <th>1</th>\n",
       "      <td>608</td>\n",
       "      <td>41</td>\n",
       "      <td>83807.86</td>\n",
       "      <td>1</td>\n",
       "      <td>1</td>\n",
       "      <td>1.0</td>\n",
       "      <td>0.0</td>\n",
       "    </tr>\n",
       "    <tr>\n",
       "      <th>2</th>\n",
       "      <td>502</td>\n",
       "      <td>42</td>\n",
       "      <td>159660.80</td>\n",
       "      <td>3</td>\n",
       "      <td>0</td>\n",
       "      <td>1.0</td>\n",
       "      <td>0.0</td>\n",
       "    </tr>\n",
       "    <tr>\n",
       "      <th>3</th>\n",
       "      <td>699</td>\n",
       "      <td>39</td>\n",
       "      <td>0.00</td>\n",
       "      <td>2</td>\n",
       "      <td>0</td>\n",
       "      <td>1.0</td>\n",
       "      <td>0.0</td>\n",
       "    </tr>\n",
       "    <tr>\n",
       "      <th>4</th>\n",
       "      <td>850</td>\n",
       "      <td>43</td>\n",
       "      <td>125510.82</td>\n",
       "      <td>1</td>\n",
       "      <td>1</td>\n",
       "      <td>1.0</td>\n",
       "      <td>0.0</td>\n",
       "    </tr>\n",
       "    <tr>\n",
       "      <th>...</th>\n",
       "      <td>...</td>\n",
       "      <td>...</td>\n",
       "      <td>...</td>\n",
       "      <td>...</td>\n",
       "      <td>...</td>\n",
       "      <td>...</td>\n",
       "      <td>...</td>\n",
       "    </tr>\n",
       "    <tr>\n",
       "      <th>9995</th>\n",
       "      <td>771</td>\n",
       "      <td>39</td>\n",
       "      <td>0.00</td>\n",
       "      <td>2</td>\n",
       "      <td>0</td>\n",
       "      <td>0.0</td>\n",
       "      <td>1.0</td>\n",
       "    </tr>\n",
       "    <tr>\n",
       "      <th>9996</th>\n",
       "      <td>516</td>\n",
       "      <td>35</td>\n",
       "      <td>57369.61</td>\n",
       "      <td>1</td>\n",
       "      <td>1</td>\n",
       "      <td>0.0</td>\n",
       "      <td>1.0</td>\n",
       "    </tr>\n",
       "    <tr>\n",
       "      <th>9997</th>\n",
       "      <td>709</td>\n",
       "      <td>36</td>\n",
       "      <td>0.00</td>\n",
       "      <td>1</td>\n",
       "      <td>1</td>\n",
       "      <td>1.0</td>\n",
       "      <td>0.0</td>\n",
       "    </tr>\n",
       "    <tr>\n",
       "      <th>9998</th>\n",
       "      <td>772</td>\n",
       "      <td>42</td>\n",
       "      <td>75075.31</td>\n",
       "      <td>2</td>\n",
       "      <td>0</td>\n",
       "      <td>0.0</td>\n",
       "      <td>1.0</td>\n",
       "    </tr>\n",
       "    <tr>\n",
       "      <th>9999</th>\n",
       "      <td>792</td>\n",
       "      <td>28</td>\n",
       "      <td>130142.79</td>\n",
       "      <td>1</td>\n",
       "      <td>0</td>\n",
       "      <td>1.0</td>\n",
       "      <td>0.0</td>\n",
       "    </tr>\n",
       "  </tbody>\n",
       "</table>\n",
       "<p>10000 rows × 7 columns</p>\n",
       "</div>"
      ],
      "text/plain": [
       "      credit_score  age    balance  products_number  active_member  \\\n",
       "0              619   42       0.00                1              1   \n",
       "1              608   41   83807.86                1              1   \n",
       "2              502   42  159660.80                3              0   \n",
       "3              699   39       0.00                2              0   \n",
       "4              850   43  125510.82                1              1   \n",
       "...            ...  ...        ...              ...            ...   \n",
       "9995           771   39       0.00                2              0   \n",
       "9996           516   35   57369.61                1              1   \n",
       "9997           709   36       0.00                1              1   \n",
       "9998           772   42   75075.31                2              0   \n",
       "9999           792   28  130142.79                1              0   \n",
       "\n",
       "      gender_Female  gender_Male  \n",
       "0               1.0          0.0  \n",
       "1               1.0          0.0  \n",
       "2               1.0          0.0  \n",
       "3               1.0          0.0  \n",
       "4               1.0          0.0  \n",
       "...             ...          ...  \n",
       "9995            0.0          1.0  \n",
       "9996            0.0          1.0  \n",
       "9997            1.0          0.0  \n",
       "9998            0.0          1.0  \n",
       "9999            1.0          0.0  \n",
       "\n",
       "[10000 rows x 7 columns]"
      ]
     },
     "execution_count": 49,
     "metadata": {},
     "output_type": "execute_result"
    }
   ],
   "source": [
    "x_data"
   ]
  },
  {
   "cell_type": "markdown",
   "metadata": {},
   "source": [
    "Normalization "
   ]
  },
  {
   "cell_type": "code",
   "execution_count": 50,
   "metadata": {},
   "outputs": [
    {
     "name": "stderr",
     "output_type": "stream",
     "text": [
      "C:\\Users\\aduno\\AppData\\Local\\Packages\\PythonSoftwareFoundation.Python.3.10_qbz5n2kfra8p0\\LocalCache\\local-packages\\Python310\\site-packages\\numpy\\core\\fromnumeric.py:84: FutureWarning: In a future version, DataFrame.min(axis=None) will return a scalar min over the entire DataFrame. To retain the old behavior, use 'frame.min(axis=0)' or just 'frame.min()'\n",
      "  return reduction(axis=axis, out=out, **passkwargs)\n",
      "C:\\Users\\aduno\\AppData\\Local\\Packages\\PythonSoftwareFoundation.Python.3.10_qbz5n2kfra8p0\\LocalCache\\local-packages\\Python310\\site-packages\\numpy\\core\\fromnumeric.py:84: FutureWarning: In a future version, DataFrame.max(axis=None) will return a scalar max over the entire DataFrame. To retain the old behavior, use 'frame.max(axis=0)' or just 'frame.max()'\n",
      "  return reduction(axis=axis, out=out, **passkwargs)\n"
     ]
    },
    {
     "data": {
      "text/html": [
       "<div>\n",
       "<style scoped>\n",
       "    .dataframe tbody tr th:only-of-type {\n",
       "        vertical-align: middle;\n",
       "    }\n",
       "\n",
       "    .dataframe tbody tr th {\n",
       "        vertical-align: top;\n",
       "    }\n",
       "\n",
       "    .dataframe thead th {\n",
       "        text-align: right;\n",
       "    }\n",
       "</style>\n",
       "<table border=\"1\" class=\"dataframe\">\n",
       "  <thead>\n",
       "    <tr style=\"text-align: right;\">\n",
       "      <th></th>\n",
       "      <th>credit_score</th>\n",
       "      <th>age</th>\n",
       "      <th>balance</th>\n",
       "      <th>products_number</th>\n",
       "      <th>active_member</th>\n",
       "      <th>gender_Female</th>\n",
       "      <th>gender_Male</th>\n",
       "    </tr>\n",
       "  </thead>\n",
       "  <tbody>\n",
       "    <tr>\n",
       "      <th>count</th>\n",
       "      <td>10000.000000</td>\n",
       "      <td>10000.000000</td>\n",
       "      <td>10000.000000</td>\n",
       "      <td>10000.000000</td>\n",
       "      <td>10000.000000</td>\n",
       "      <td>10000.000000</td>\n",
       "      <td>10000.000000</td>\n",
       "    </tr>\n",
       "    <tr>\n",
       "      <th>mean</th>\n",
       "      <td>0.601058</td>\n",
       "      <td>0.282727</td>\n",
       "      <td>0.304848</td>\n",
       "      <td>0.176733</td>\n",
       "      <td>0.515100</td>\n",
       "      <td>0.454300</td>\n",
       "      <td>0.545700</td>\n",
       "    </tr>\n",
       "    <tr>\n",
       "      <th>std</th>\n",
       "      <td>0.193307</td>\n",
       "      <td>0.141727</td>\n",
       "      <td>0.248696</td>\n",
       "      <td>0.193885</td>\n",
       "      <td>0.499797</td>\n",
       "      <td>0.497932</td>\n",
       "      <td>0.497932</td>\n",
       "    </tr>\n",
       "    <tr>\n",
       "      <th>min</th>\n",
       "      <td>0.000000</td>\n",
       "      <td>0.000000</td>\n",
       "      <td>0.000000</td>\n",
       "      <td>0.000000</td>\n",
       "      <td>0.000000</td>\n",
       "      <td>0.000000</td>\n",
       "      <td>0.000000</td>\n",
       "    </tr>\n",
       "    <tr>\n",
       "      <th>25%</th>\n",
       "      <td>0.468000</td>\n",
       "      <td>0.189189</td>\n",
       "      <td>0.000000</td>\n",
       "      <td>0.000000</td>\n",
       "      <td>0.000000</td>\n",
       "      <td>0.000000</td>\n",
       "      <td>0.000000</td>\n",
       "    </tr>\n",
       "    <tr>\n",
       "      <th>50%</th>\n",
       "      <td>0.604000</td>\n",
       "      <td>0.256757</td>\n",
       "      <td>0.387402</td>\n",
       "      <td>0.000000</td>\n",
       "      <td>1.000000</td>\n",
       "      <td>0.000000</td>\n",
       "      <td>1.000000</td>\n",
       "    </tr>\n",
       "    <tr>\n",
       "      <th>75%</th>\n",
       "      <td>0.736000</td>\n",
       "      <td>0.351351</td>\n",
       "      <td>0.508749</td>\n",
       "      <td>0.333333</td>\n",
       "      <td>1.000000</td>\n",
       "      <td>1.000000</td>\n",
       "      <td>1.000000</td>\n",
       "    </tr>\n",
       "    <tr>\n",
       "      <th>max</th>\n",
       "      <td>1.000000</td>\n",
       "      <td>1.000000</td>\n",
       "      <td>1.000000</td>\n",
       "      <td>1.000000</td>\n",
       "      <td>1.000000</td>\n",
       "      <td>1.000000</td>\n",
       "      <td>1.000000</td>\n",
       "    </tr>\n",
       "  </tbody>\n",
       "</table>\n",
       "</div>"
      ],
      "text/plain": [
       "       credit_score           age       balance  products_number  \\\n",
       "count  10000.000000  10000.000000  10000.000000     10000.000000   \n",
       "mean       0.601058      0.282727      0.304848         0.176733   \n",
       "std        0.193307      0.141727      0.248696         0.193885   \n",
       "min        0.000000      0.000000      0.000000         0.000000   \n",
       "25%        0.468000      0.189189      0.000000         0.000000   \n",
       "50%        0.604000      0.256757      0.387402         0.000000   \n",
       "75%        0.736000      0.351351      0.508749         0.333333   \n",
       "max        1.000000      1.000000      1.000000         1.000000   \n",
       "\n",
       "       active_member  gender_Female   gender_Male  \n",
       "count   10000.000000   10000.000000  10000.000000  \n",
       "mean        0.515100       0.454300      0.545700  \n",
       "std         0.499797       0.497932      0.497932  \n",
       "min         0.000000       0.000000      0.000000  \n",
       "25%         0.000000       0.000000      0.000000  \n",
       "50%         1.000000       0.000000      1.000000  \n",
       "75%         1.000000       1.000000      1.000000  \n",
       "max         1.000000       1.000000      1.000000  "
      ]
     },
     "execution_count": 50,
     "metadata": {},
     "output_type": "execute_result"
    }
   ],
   "source": [
    "#Normalization to handle unbalanced features \n",
    "x = (x_data - np.min(x_data))/(np.max(x_data) - np.min(x_data)).values\n",
    "x.describe()"
   ]
  },
  {
   "cell_type": "markdown",
   "metadata": {},
   "source": [
    "Split data"
   ]
  },
  {
   "cell_type": "code",
   "execution_count": 51,
   "metadata": {},
   "outputs": [],
   "source": [
    "# Split the data into training and test set. We use 30% test data with a random state of 42 \n",
    "x_train, x_test, y_train, y_test = train_test_split(x, y, test_size= 0.3, random_state=42)"
   ]
  },
  {
   "cell_type": "markdown",
   "metadata": {},
   "source": [
    "# Logistic Regression Model"
   ]
  },
  {
   "cell_type": "markdown",
   "metadata": {},
   "source": [
    "Train Model"
   ]
  },
  {
   "cell_type": "code",
   "execution_count": 52,
   "metadata": {},
   "outputs": [],
   "source": [
    "model = LogisticRegression(max_iter=5251).fit(x_train, y_train)\n"
   ]
  },
  {
   "cell_type": "markdown",
   "metadata": {},
   "source": [
    "Get results"
   ]
  },
  {
   "cell_type": "code",
   "execution_count": 53,
   "metadata": {},
   "outputs": [
    {
     "name": "stdout",
     "output_type": "stream",
     "text": [
      "Test accuracy: 0.8032857142857143\n",
      "intercept: [-2.60013172]\n",
      "slope: [[-0.35645261  5.0346329   1.23120991 -0.06321508 -1.02111481  0.26940349\n",
      "  -0.26940398]]\n"
     ]
    }
   ],
   "source": [
    "# Attributes of the model\n",
    "lr_score = model.score(x_train,y_train)\n",
    "print(f\"Test accuracy: {lr_score}\")\n",
    "print(f\"intercept: {model.intercept_}\")     #value of y when x = 0\n",
    "print(f\"slope: {model.coef_}\")              #gradient of slope"
   ]
  },
  {
   "cell_type": "markdown",
   "metadata": {},
   "source": [
    "Predict results"
   ]
  },
  {
   "cell_type": "code",
   "execution_count": 54,
   "metadata": {},
   "outputs": [
    {
     "name": "stdout",
     "output_type": "stream",
     "text": [
      "predicted response:\n",
      "[0 0 0 ... 0 0 0] \n",
      "[1 0 0 ... 1 1 0]\n"
     ]
    }
   ],
   "source": [
    "y_pred = model.predict(x_train)\n",
    "print(f\"predicted response:\\n{y_pred} \\n{y_train}\")"
   ]
  },
  {
   "cell_type": "code",
   "execution_count": 55,
   "metadata": {},
   "outputs": [
    {
     "data": {
      "image/png": "[encoded data removed]",
      "text/plain": [
       "<Figure size 360x360 with 2 Axes>"
      ]
     },
     "metadata": {
      "needs_background": "light"
     },
     "output_type": "display_data"
    }
   ],
   "source": [
    "from sklearn.metrics import confusion_matrix\n",
    "\n",
    "y_prediction = model.predict(x_test)\n",
    "y_actual = y_test\n",
    "cm = confusion_matrix(y_actual, y_prediction)\n",
    "\n",
    "# heatmap visulization of confusion matrix\n",
    "f, ax = plt.subplots(figsize =(5, 5))\n",
    "sns.heatmap(cm, annot = True, linewidth=1, linecolor=\"green\", fmt =\".0f\", ax=ax)\n",
    "plt.xlabel(\"y_prediction\")\n",
    "plt.ylabel(\"y_actual\")\n",
    "plt.show()    "
   ]
  },
  {
   "cell_type": "markdown",
   "metadata": {},
   "source": [
    "# KNN Classification Approach"
   ]
  },
  {
   "cell_type": "code",
   "execution_count": 58,
   "metadata": {},
   "outputs": [
    {
     "name": "stdout",
     "output_type": "stream",
     "text": [
      "14 nn score: 0.8566666666666667\n"
     ]
    }
   ],
   "source": [
    "# import KNN classification model\n",
    "from sklearn.neighbors import KNeighborsClassifier\n",
    "k= 14\n",
    "knn = KNeighborsClassifier(n_neighbors=k)\n",
    "knn.fit(x_train, y_train)\n",
    "prediction = knn.predict(x_test)\n",
    "print(\"{} nn score: {}\".format(k, knn.score(x_test, y_test)))\n",
    "\n",
    "knn_score = knn.score(x_test, y_test)"
   ]
  },
  {
   "cell_type": "code",
   "execution_count": 59,
   "metadata": {},
   "outputs": [
    {
     "data": {
      "image/png": "[encoded data removed]",
      "text/plain": [
       "<Figure size 432x288 with 1 Axes>"
      ]
     },
     "metadata": {
      "needs_background": "light"
     },
     "output_type": "display_data"
    }
   ],
   "source": [
    "# testing differnt vaues of k with accuracy to determine the most favorable\n",
    "# k ranges from 1-15\n",
    "score_list = []\n",
    "for each in range(1, 15):\n",
    "    knn2 = KNeighborsClassifier(n_neighbors = each)\n",
    "    knn2.fit(x_train, y_train)\n",
    "    score_list.append(knn2.score(x_test, y_test))\n",
    "    \n",
    "plt.plot(range(1, 15), score_list)\n",
    "plt.xlabel(\"kvalues\")\n",
    "plt.ylabel(\"accuracy\")\n",
    "plt.show()"
   ]
  },
  {
   "cell_type": "code",
   "execution_count": 60,
   "metadata": {},
   "outputs": [
    {
     "data": {
      "image/png": "[encoded data removed]",
      "text/plain": [
       "<Figure size 360x360 with 2 Axes>"
      ]
     },
     "metadata": {
      "needs_background": "light"
     },
     "output_type": "display_data"
    }
   ],
   "source": [
    "#confusion matrix\n",
    "y_prediction = knn.predict(x_test)\n",
    "y_actual=y_test\n",
    "cm = confusion_matrix(y_actual, y_prediction)\n",
    "\n",
    "# Heatmap visualization of conusion matrix\n",
    "f, ax = plt.subplots(figsize = (5, 5))\n",
    "sns.heatmap(cm, annot =  True, linewidths=1, linecolor = \"green\", fmt = \".0f\", ax=ax)\n",
    "plt.xlabel(\"y_prediction\")\n",
    "plt.ylabel(\"y_actual\")\n",
    "plt.show()"
   ]
  },
  {
   "cell_type": "markdown",
   "metadata": {},
   "source": [
    "# Decision Tree Approach"
   ]
  },
  {
   "cell_type": "code",
   "execution_count": 61,
   "metadata": {},
   "outputs": [
    {
     "name": "stdout",
     "output_type": "stream",
     "text": [
      "score:  0.7913333333333333\n"
     ]
    }
   ],
   "source": [
    "# Decision tree approach\n",
    "from sklearn.tree import DecisionTreeClassifier\n",
    "dt = DecisionTreeClassifier(random_state = 50)\n",
    "dt.fit(x_train, y_train)\n",
    "\n",
    "print(\"score: \", dt.score(x_test, y_test))\n",
    "\n",
    "dt_score = dt.score(x_test, y_test)"
   ]
  },
  {
   "cell_type": "code",
   "execution_count": 62,
   "metadata": {},
   "outputs": [
    {
     "data": {
      "image/png": "[encoded data removed]",
      "text/plain": [
       "<Figure size 360x360 with 2 Axes>"
      ]
     },
     "metadata": {
      "needs_background": "light"
     },
     "output_type": "display_data"
    }
   ],
   "source": [
    "# confsion matrix\n",
    "y_prediction2 = dt.predict(x_test)\n",
    "y_actual2 = y_test\n",
    "cm = confusion_matrix(y_actual2, y_prediction2)\n",
    "\n",
    "# heatmap\n",
    "f, ax = plt.subplots(figsize = (5, 5))\n",
    "sns.heatmap(cm, annot = True, linewidths=1, linecolor=\"black\", fmt =\".0f\", ax=ax)\n",
    "plt.xlabel(\"y_prediction\")\n",
    "plt.ylabel(\"y_actual\")\n",
    "plt.show()"
   ]
  },
  {
   "cell_type": "markdown",
   "metadata": {},
   "source": [
    "# Random Forest Classification"
   ]
  },
  {
   "cell_type": "code",
   "execution_count": 63,
   "metadata": {},
   "outputs": [
    {
     "name": "stdout",
     "output_type": "stream",
     "text": [
      "random forest model score:  0.855\n"
     ]
    }
   ],
   "source": [
    "# random forest classification\n",
    "from sklearn.ensemble import RandomForestClassifier\n",
    "# set n_estimators to 100 whcih means the model will use 100 subsets\n",
    "rf = RandomForestClassifier(n_estimators = 100, random_state = 30)\n",
    "rf.fit(x_train, y_train)\n",
    "print(\"random forest model score: \", rf.score(x_test, y_test))\n",
    "rf_score= rf.score(x_test, y_test)"
   ]
  },
  {
   "cell_type": "code",
   "execution_count": 64,
   "metadata": {},
   "outputs": [
    {
     "data": {
      "image/png": "[encoded data removed]",
      "text/plain": [
       "<Figure size 360x360 with 2 Axes>"
      ]
     },
     "metadata": {
      "needs_background": "light"
     },
     "output_type": "display_data"
    }
   ],
   "source": [
    "# confusion matrix\n",
    "y_prediction3 = rf.predict(x_test)\n",
    "y_actual3 = y_test\n",
    "cm = confusion_matrix(y_actual3, y_prediction3)\n",
    "\n",
    "# Heatmap\n",
    "f, ax = plt.subplots(figsize=(5,5))\n",
    "sns.heatmap(cm, annot = True, linewidths=0.5, linecolor = \"green\", fmt = \".0f\", ax=ax)\n",
    "plt.xlabel(\"y_prediction\")\n",
    "plt.ylabel(\"y_actual\")\n",
    "plt.show()"
   ]
  },
  {
   "cell_type": "markdown",
   "metadata": {},
   "source": [
    "# Support Vector Machines"
   ]
  },
  {
   "cell_type": "code",
   "execution_count": 65,
   "metadata": {},
   "outputs": [
    {
     "name": "stdout",
     "output_type": "stream",
     "text": [
      "Accuracy of SVM:  0.859\n"
     ]
    }
   ],
   "source": [
    "# SVM approach\n",
    "from sklearn.svm import SVC\n",
    "svm = SVC(random_state = 42)\n",
    "svm.fit(x_train, y_train)\n",
    "\n",
    "print(\"Accuracy of SVM: \", svm.score(x_test, y_test))\n",
    "\n",
    "svm_score = svm.score(x_test, y_test)"
   ]
  },
  {
   "cell_type": "code",
   "execution_count": 66,
   "metadata": {},
   "outputs": [
    {
     "data": {
      "image/png": "[encoded data removed]",
      "text/plain": [
       "<Figure size 360x360 with 2 Axes>"
      ]
     },
     "metadata": {
      "needs_background": "light"
     },
     "output_type": "display_data"
    }
   ],
   "source": [
    "# Confusion matrix\n",
    "from turtle import color\n",
    "\n",
    "\n",
    "y_prediction4 = svm.predict(x_test)\n",
    "y_actual4 = y_test\n",
    "cm = confusion_matrix(y_actual4, y_prediction4)\n",
    "\n",
    "# Heatmap\n",
    "f, ax = plt.subplots(figsize=(5,5))\n",
    "sns.heatmap(cm, annot = True, linewidths=0.5, linecolor = \"green\", fmt = \".0f\", ax=ax)\n",
    "plt.xlabel(\"y_prediction\")\n",
    "plt.ylabel(\"y_actual\")\n",
    "plt.show()"
   ]
  },
  {
   "cell_type": "markdown",
   "metadata": {},
   "source": [
    "# Naive Bayes Classification"
   ]
  },
  {
   "cell_type": "code",
   "execution_count": 67,
   "metadata": {},
   "outputs": [
    {
     "name": "stdout",
     "output_type": "stream",
     "text": [
      "accuracy of naive bayes:  0.8383333333333334\n"
     ]
    }
   ],
   "source": [
    "# Naive Bayes\n",
    "from sklearn.naive_bayes import GaussianNB\n",
    "nb = GaussianNB()\n",
    "nb.fit(x_train, y_train)\n",
    "\n",
    "print(\"accuracy of naive bayes: \", nb.score(x_test, y_test))\n",
    "\n",
    "nb_score = nb.score(x_test, y_test)"
   ]
  },
  {
   "cell_type": "code",
   "execution_count": 68,
   "metadata": {},
   "outputs": [
    {
     "data": {
      "image/png": "[encoded data removed]",
      "text/plain": [
       "<Figure size 360x360 with 2 Axes>"
      ]
     },
     "metadata": {
      "needs_background": "light"
     },
     "output_type": "display_data"
    }
   ],
   "source": [
    "# Confusion matrix\n",
    "y_prediction5 = nb.predict(x_test)\n",
    "y_actual5 = y_test\n",
    "cm = confusion_matrix(y_actual5, y_prediction5)\n",
    "\n",
    "# heatmap\n",
    "f, ax = plt.subplots(figsize=(5,5))\n",
    "sns.heatmap(cm, annot = True, linewidths=0.5, linecolor = \"green\", fmt = \".0f\", ax=ax)\n",
    "plt.xlabel(\"y_prediction\")\n",
    "plt.ylabel(\"y_actual\")\n",
    "plt.show()"
   ]
  },
  {
   "cell_type": "markdown",
   "metadata": {},
   "source": [
    "# Compare Classification Models"
   ]
  },
  {
   "cell_type": "code",
   "execution_count": 70,
   "metadata": {},
   "outputs": [
    {
     "data": {
      "image/png": "[encoded data removed]",
      "text/plain": [
       "<Figure size 1296x864 with 1 Axes>"
      ]
     },
     "metadata": {
      "needs_background": "light"
     },
     "output_type": "display_data"
    }
   ],
   "source": [
    "class_name = (\"Logistic Regression\", \"KNN\", \"Decision Tree\", \"Random Forest\", \"SVM\", \"Naive bayes\")\n",
    "class_score = (lr_score, knn_score, dt_score, rf_score, svm_score, nb_score)\n",
    "y_pos = np.arange(len(class_score))\n",
    "colors = (\"blue\", \"blue\", \"blue\",\"blue\", \"blue\",\"blue\")\n",
    "plt.figure(figsize=(18, 12))\n",
    "plt.bar(y_pos, class_score, color=colors)\n",
    "plt.xticks(y_pos, class_name, fontsize=20)\n",
    "plt.yticks(np.arange(0.00, 1.05, step = 0.05))\n",
    "plt.ylabel(\"Accuracy\")\n",
    "\n",
    "plt.title(\"Confusion Matrix Comparision of Classifiers\", fontsize=14)\n",
    "# plt.savefig(\"graph.png\")\n",
    "plt.show()"
   ]
  }
 ],
 "metadata": {
  "kernelspec": {
   "display_name": "Python 3.10.7 64-bit (microsoft store)",
   "language": "python",
   "name": "python3"
  },
  "language_info": {
   "codemirror_mode": {
    "name": "ipython",
    "version": 3
   },
   "file_extension": ".py",
   "mimetype": "text/x-python",
   "name": "python",
   "nbconvert_exporter": "python",
   "pygments_lexer": "ipython3",
   "version": "3.10.7"
  },
  "orig_nbformat": 4,
  "vscode": {
   "interpreter": {
    "hash": "1ba8ddd67eb72f666e9ed24e7ce7d0418c15b0cfb7e00f500f6fe4ad37231218"
   }
  }
 },
 "nbformat": 4,
 "nbformat_minor": 2
}
